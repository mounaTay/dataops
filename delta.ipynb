{
 "cells": [
  {
   "cell_type": "code",
   "execution_count": 1,
   "id": "c590739e-d7b0-439c-b4ac-68c322501211",
   "metadata": {},
   "outputs": [],
   "source": [
    "import socket\n",
    "# import delta\n",
    "from pyspark.sql import DataFrame, DataFrameWriter, SparkSession\n",
    "from pyspark.sql.functions import col, lit\n",
    "from pyspark.sql.types import StructType, StructField, StringType, IntegerType, LongType, DoubleType\n",
    "from pyspark import SparkConf\n",
    "# from delta.tables import *"
   ]
  },
  {
   "cell_type": "code",
   "execution_count": 2,
   "id": "fd5fbe8d-a7da-4dd7-b1a1-25e7ca4f917c",
   "metadata": {
    "collapsed": true,
    "jupyter": {
     "outputs_hidden": true
    },
    "tags": []
   },
   "outputs": [
    {
     "name": "stderr",
     "output_type": "stream",
     "text": [
      "Ivy Default Cache set to: /home/jovyan/.ivy2/cache\n",
      "The jars for the packages stored in: /home/jovyan/.ivy2/jars\n",
      ":: loading settings :: url = jar:file:/opt/spark-3.0.2-bin-hadoop-3.2.0/jars/ivy-2.4.0.jar!/org/apache/ivy/core/settings/ivysettings.xml\n",
      "io.delta#delta-core_2.12 added as a dependency\n",
      ":: resolving dependencies :: org.apache.spark#spark-submit-parent-7fe2924f-2e9e-45e5-921e-b57fb6007127;1.0\n",
      "\tconfs: [default]\n",
      "\tfound io.delta#delta-core_2.12;0.8.0 in central\n",
      "\tfound org.antlr#antlr4;4.7 in central\n",
      "\tfound org.antlr#antlr4-runtime;4.7 in central\n",
      "\tfound org.antlr#antlr-runtime;3.5.2 in central\n",
      "\tfound org.antlr#ST4;4.0.8 in central\n",
      "\tfound org.abego.treelayout#org.abego.treelayout.core;1.0.3 in central\n",
      "\tfound org.glassfish#javax.json;1.0.4 in central\n",
      "\tfound com.ibm.icu#icu4j;58.2 in central\n",
      ":: resolution report :: resolve 375ms :: artifacts dl 9ms\n",
      "\t:: modules in use:\n",
      "\tcom.ibm.icu#icu4j;58.2 from central in [default]\n",
      "\tio.delta#delta-core_2.12;0.8.0 from central in [default]\n",
      "\torg.abego.treelayout#org.abego.treelayout.core;1.0.3 from central in [default]\n",
      "\torg.antlr#ST4;4.0.8 from central in [default]\n",
      "\torg.antlr#antlr-runtime;3.5.2 from central in [default]\n",
      "\torg.antlr#antlr4;4.7 from central in [default]\n",
      "\torg.antlr#antlr4-runtime;4.7 from central in [default]\n",
      "\torg.glassfish#javax.json;1.0.4 from central in [default]\n",
      "\t---------------------------------------------------------------------\n",
      "\t|                  |            modules            ||   artifacts   |\n",
      "\t|       conf       | number| search|dwnlded|evicted|| number|dwnlded|\n",
      "\t---------------------------------------------------------------------\n",
      "\t|      default     |   8   |   0   |   0   |   0   ||   8   |   0   |\n",
      "\t---------------------------------------------------------------------\n",
      ":: retrieving :: org.apache.spark#spark-submit-parent-7fe2924f-2e9e-45e5-921e-b57fb6007127\n",
      "\tconfs: [default]\n",
      "\t0 artifacts copied, 8 already retrieved (0kB/8ms)\n",
      "22/05/23 09:26:33 WARN NativeCodeLoader: Unable to load native-hadoop library for your platform... using builtin-java classes where applicable\n",
      "Using Spark's default log4j profile: org/apache/spark/log4j-defaults.properties\n",
      "Setting default log level to \"WARN\".\n",
      "To adjust logging level use sc.setLogLevel(newLevel). For SparkR, use setLogLevel(newLevel).\n"
     ]
    }
   ],
   "source": [
    "sparkConf = SparkConf().setAppName(\"ingress_update_delta\" + socket.gethostname()).setMaster(\"local[*]\") \\\n",
    "            .set(\"spark.jars.packages\",\n",
    "                 \"io.delta:delta-core_2.12:0.8.0\")\\\n",
    "            .set(\"spark.sql.extensions\", \"io.delta.sql.DeltaSparkSessionExtension\") \\\n",
    "            .set(\"spark.databricks.delta.schema.autoMerge.enabled\", True) \\\n",
    "            .set(\"spark.sql.catalog.spark_catalog\", \"org.apache.spark.sql.delta.catalog.DeltaCatalog\")\n",
    "spark = SparkSession.builder.config(conf=sparkConf).getOrCreate()"
   ]
  },
  {
   "cell_type": "code",
   "execution_count": 3,
   "id": "6cd23d48-84d8-4c3f-a577-71e53763a75e",
   "metadata": {},
   "outputs": [],
   "source": [
    "tableName = \"deltaTable\"\n",
    "basePath = \"Deltas/deltaTable\""
   ]
  },
  {
   "cell_type": "code",
   "execution_count": 4,
   "id": "d59dc44e-90da-497b-a970-1dfde9a5365e",
   "metadata": {},
   "outputs": [
    {
     "name": "stderr",
     "output_type": "stream",
     "text": [
      "                                                                                \r"
     ]
    },
    {
     "name": "stdout",
     "output_type": "stream",
     "text": [
      "+-----+-------+-----+-------+\n",
      "|pk_id|name   |value|type   |\n",
      "+-----+-------+-----+-------+\n",
      "|1    |apple  |10   |iphone |\n",
      "|2    |samsung|20   |galaxy |\n",
      "|3    |dell   |30   |monitor|\n",
      "+-----+-------+-----+-------+\n",
      "\n"
     ]
    }
   ],
   "source": [
    "data = [(1,\"apple\",10,\"iphone\"), (2,\"samsung\",20,\"galaxy\"), (3,\"dell\",30,\"monitor\")]\n",
    "columns = [\"pk_id\",\"name\",\"value\", \"type\"]\n",
    "df = spark.createDataFrame(data).toDF(*columns)\n",
    "\n",
    "df.write.format(\"delta\"). \\\n",
    "    mode(\"overwrite\"). \\\n",
    "    option(\"mergeSchema\", True). \\\n",
    "    save(basePath)\n",
    "\n",
    "spark.read.format(\"delta\").load(basePath).show(10, False)"
   ]
  },
  {
   "cell_type": "code",
   "execution_count": 5,
   "id": "eb8a683b-9262-432d-a24e-cd61094afcd0",
   "metadata": {},
   "outputs": [
    {
     "name": "stdout",
     "output_type": "stream",
     "text": [
      "_delta_log\n",
      "part-00000-09267332-ef4c-4fc4-89ce-136e4da9e825-c000.snappy.parquet\n",
      "part-00000-0def5718-2b18-4058-b342-9dc8004fdb29-c000.snappy.parquet\n",
      "part-00000-241b308b-11a0-45e5-8def-a03e2b9ca9b4-c000.snappy.parquet\n",
      "part-00000-d9ae659f-dd36-4ac9-9487-786d4f0ed755-c000.snappy.parquet\n",
      "part-00001-11a7fb8d-0750-4768-8eb3-efb7bc46025c-c000.snappy.parquet\n",
      "part-00001-3a30a77d-2908-4974-bcb7-59f7e69b5969-c000.snappy.parquet\n",
      "part-00001-403a4cb0-e5b0-47de-90c9-f74af86cf25e-c000.snappy.parquet\n",
      "part-00001-6c7bb7ed-0d11-4b79-b50d-6913115cd1e3-c000.snappy.parquet\n"
     ]
    }
   ],
   "source": [
    "!ls Deltas/deltaTable"
   ]
  },
  {
   "cell_type": "code",
   "execution_count": 6,
   "id": "853d0371-f0a7-4e95-871d-39a161d0a3ae",
   "metadata": {},
   "outputs": [
    {
     "name": "stdout",
     "output_type": "stream",
     "text": [
      "00000000000000000000.json  00000000000000000002.json\n",
      "00000000000000000001.json  00000000000000000003.json\n"
     ]
    }
   ],
   "source": [
    "!ls Deltas/deltaTable/_delta_log"
   ]
  },
  {
   "cell_type": "code",
   "execution_count": 10,
   "id": "50883fd7-7c67-466d-be33-017d9eb26650",
   "metadata": {},
   "outputs": [
    {
     "name": "stderr",
     "output_type": "stream",
     "text": [
      "                                                                                \r"
     ]
    }
   ],
   "source": [
    "from delta.tables import *\n",
    "deltaTable = DeltaTable.forPath(spark, \"deltaTable\")"
   ]
  },
  {
   "cell_type": "markdown",
   "id": "2bfd4bbf-f882-4178-9d33-233b4c0b50dd",
   "metadata": {},
   "source": [
    "### Update and Append"
   ]
  },
  {
   "cell_type": "code",
   "execution_count": 11,
   "id": "7fbef704-f627-4bac-bc8f-15568d218fb6",
   "metadata": {},
   "outputs": [
    {
     "name": "stderr",
     "output_type": "stream",
     "text": [
      "                                                                                \r"
     ]
    },
    {
     "name": "stdout",
     "output_type": "stream",
     "text": [
      "+-----+-----+-----+-------+---------+\n",
      "|pk_id| name|value|   type|new_field|\n",
      "+-----+-----+-----+-------+---------+\n",
      "|    1|apple|   20| iphone|     null|\n",
      "|    3| dell|   30|monitor|     null|\n",
      "|    4|other|   50|  other|     null|\n",
      "+-----+-----+-----+-------+---------+\n",
      "\n"
     ]
    }
   ],
   "source": [
    "deltas = [(1,\"apple\",20,\"iphone\"), (4, \"other\", 50, \"other\")]\n",
    "columns = [\"pk_id\",\"name\",\"value\", \"type\"]\n",
    "df = spark.createDataFrame(deltas).toDF(*columns)\n",
    "\n",
    "deltaTable.alias(\"baseline\").merge(\n",
    "  df.alias('updates'),\n",
    "    'baseline.pk_id = updates.pk_id'\n",
    "  ) \\\n",
    "  .whenMatchedUpdateAll() \\\n",
    "  .whenNotMatchedInsertAll() \\\n",
    "  .execute()\n",
    "\n",
    "deltaTable.toDF().show()"
   ]
  },
  {
   "cell_type": "markdown",
   "id": "5781e1c0-327e-47d8-888d-db249e7cea28",
   "metadata": {},
   "source": [
    "### Delete"
   ]
  },
  {
   "cell_type": "code",
   "execution_count": 12,
   "id": "b67a06ac-f30c-46f2-b8db-ab9ab35f5b0e",
   "metadata": {},
   "outputs": [
    {
     "name": "stderr",
     "output_type": "stream",
     "text": [
      "                                                                                \r"
     ]
    },
    {
     "name": "stdout",
     "output_type": "stream",
     "text": [
      "+-----+-----+-----+-------+---------+\n",
      "|pk_id|name |value|type   |new_field|\n",
      "+-----+-----+-----+-------+---------+\n",
      "|1    |apple|20   |iphone |null     |\n",
      "|3    |dell |30   |monitor|null     |\n",
      "|4    |other|50   |other  |null     |\n",
      "+-----+-----+-----+-------+---------+\n",
      "\n"
     ]
    }
   ],
   "source": [
    "deletes = [(2,\"samsung\",20,\"galaxy\")]\n",
    "columns = [\"pk_id\",\"name\",\"value\", \"type\"]\n",
    "df = spark.createDataFrame(deletes).toDF(*columns)\n",
    "\n",
    "deltaTable.alias(\"baseline\").merge(\n",
    "  df.alias('updates'),\n",
    "    'baseline.pk_id = updates.pk_id'\n",
    "  ) \\\n",
    "  .whenMatchedDelete() \\\n",
    "  .execute()\n",
    "\n",
    "deltaTable.toDF().show(10, False)"
   ]
  },
  {
   "cell_type": "code",
   "execution_count": 13,
   "id": "09a86ca6-8e4b-479d-a6ae-042b7bbccafc",
   "metadata": {},
   "outputs": [
    {
     "name": "stderr",
     "output_type": "stream",
     "text": [
      "                                                                                \r"
     ]
    },
    {
     "name": "stdout",
     "output_type": "stream",
     "text": [
      "+-----+-----+-----+-------+---------+\n",
      "|pk_id|name |value|type   |new_field|\n",
      "+-----+-----+-----+-------+---------+\n",
      "|3    |dell |30   |monitor|null     |\n",
      "|4    |other|50   |other  |null     |\n",
      "+-----+-----+-----+-------+---------+\n",
      "\n"
     ]
    }
   ],
   "source": [
    "deltaTable.delete(\"pk_id = 1 or pk_id = '101'\")\n",
    "deltaTable.toDF().show(10, False)"
   ]
  },
  {
   "cell_type": "code",
   "execution_count": 14,
   "id": "04971fad-962c-4ac9-bd76-7500f4b6a63d",
   "metadata": {},
   "outputs": [
    {
     "name": "stderr",
     "output_type": "stream",
     "text": [
      "                                                                                \r"
     ]
    },
    {
     "name": "stdout",
     "output_type": "stream",
     "text": [
      "+-----+----+-----+-------+---------+\n",
      "|pk_id|name|value|type   |new_field|\n",
      "+-----+----+-----+-------+---------+\n",
      "|3    |dell|30   |monitor|null     |\n",
      "+-----+----+-----+-------+---------+\n",
      "\n"
     ]
    }
   ],
   "source": [
    "deletes = [(4, \"other\", 50, \"other\"),(3, \"dell\", 30, \"monitor\")]\n",
    "columns = [\"pk_id\",\"name\",\"value\", \"type\"]\n",
    "df = spark.createDataFrame(deletes).toDF(*columns)\n",
    "\n",
    "deltaTable.alias(\"baseline\").merge(\n",
    "  df.alias('updates'),\n",
    "    'baseline.pk_id = updates.pk_id'\n",
    "  ) \\\n",
    "  .whenMatchedDelete(\"updates.type='other'\") \\\n",
    "  .execute()\n",
    "\n",
    "deltaTable.toDF().show(10, False)"
   ]
  },
  {
   "cell_type": "code",
   "execution_count": 15,
   "id": "30e0e50c-6545-4e6a-9efd-234af920e4f7",
   "metadata": {},
   "outputs": [
    {
     "name": "stdout",
     "output_type": "stream",
     "text": [
      "root\n",
      " |-- pk_id: long (nullable = true)\n",
      " |-- name: string (nullable = true)\n",
      " |-- value: long (nullable = true)\n",
      " |-- type: string (nullable = true)\n",
      "\n"
     ]
    }
   ],
   "source": [
    "spark.read.format(\"delta\").load(basePath).printSchema()"
   ]
  },
  {
   "cell_type": "code",
   "execution_count": 16,
   "id": "b939e737-613a-4b03-bcc4-6bbcaa042a57",
   "metadata": {},
   "outputs": [
    {
     "name": "stderr",
     "output_type": "stream",
     "text": [
      "                                                                                \r"
     ]
    },
    {
     "name": "stdout",
     "output_type": "stream",
     "text": [
      "+-----+-------+-----+-------+---------+\n",
      "|pk_id|   name|value|   type|new_field|\n",
      "+-----+-------+-----+-------+---------+\n",
      "|    2|samsung|   20| galaxy|   phones|\n",
      "|  101|  apple|  220| iphone|   phones|\n",
      "|    1|  other|   50|  other|    other|\n",
      "|    3|   dell|   30|monitor|     null|\n",
      "+-----+-------+-----+-------+---------+\n",
      "\n"
     ]
    }
   ],
   "source": [
    "schema_change = [(101,\"phones\",\"apple\",220,\"iphone\"),(2,\"phones\",\"samsung\",20,\"galaxy\"), (1,\"other\", \"other\", 50, \"other\")]\n",
    "columns = [\"pk_id\",\"new_field\",\"name\",\"value\", \"type\"]\n",
    "df = spark.createDataFrame(schema_change).toDF(*columns)\n",
    "\n",
    "\n",
    "deltaTable.alias(\"baseline\").merge(\n",
    "  df.alias('updates'),\n",
    "    'baseline.pk_id = updates.pk_id'\n",
    "  ) \\\n",
    "  .whenMatchedUpdateAll() \\\n",
    "  .whenNotMatchedInsertAll() \\\n",
    "  .execute()\n",
    "\n",
    "deltaTable.toDF().show()"
   ]
  },
  {
   "cell_type": "code",
   "execution_count": 17,
   "id": "926db9bb-d166-4c35-8648-c58a5b06631a",
   "metadata": {},
   "outputs": [
    {
     "name": "stdout",
     "output_type": "stream",
     "text": [
      "{\"commitInfo\":{\"timestamp\":1652337475328,\"operation\":\"WRITE\",\"operationParameters\":{\"mode\":\"Overwrite\",\"partitionBy\":\"[]\"},\"isBlindAppend\":false,\"operationMetrics\":{\"numFiles\":\"2\",\"numOutputBytes\":\"2294\",\"numOutputRows\":\"3\"}}}\n",
      "{\"protocol\":{\"minReaderVersion\":1,\"minWriterVersion\":2}}\n",
      "{\"metaData\":{\"id\":\"5648fd3e-91fd-489d-a1f8-ab0c2d250947\",\"format\":{\"provider\":\"parquet\",\"options\":{}},\"schemaString\":\"{\\\"type\\\":\\\"struct\\\",\\\"fields\\\":[{\\\"name\\\":\\\"pk_id\\\",\\\"type\\\":\\\"long\\\",\\\"nullable\\\":true,\\\"metadata\\\":{}},{\\\"name\\\":\\\"name\\\",\\\"type\\\":\\\"string\\\",\\\"nullable\\\":true,\\\"metadata\\\":{}},{\\\"name\\\":\\\"value\\\",\\\"type\\\":\\\"long\\\",\\\"nullable\\\":true,\\\"metadata\\\":{}},{\\\"name\\\":\\\"type\\\",\\\"type\\\":\\\"string\\\",\\\"nullable\\\":true,\\\"metadata\\\":{}}]}\",\"partitionColumns\":[],\"configuration\":{},\"createdTime\":1652337470349}}\n",
      "{\"add\":{\"path\":\"part-00000-0def5718-2b18-4058-b342-9dc8004fdb29-c000.snappy.parquet\",\"partitionValues\":{},\"size\":1158,\"modificationTime\":1652337473000,\"dataChange\":true}}\n",
      "{\"add\":{\"path\":\"part-00001-11a7fb8d-0750-4768-8eb3-efb7bc46025c-c000.snappy.parquet\",\"partitionValues\":{},\"size\":1136,\"modificationTime\":1652337473000,\"dataChange\":true}}\n"
     ]
    }
   ],
   "source": [
    "!cat Deltas/deltaTable/_delta_log/00000000000000000000.json"
   ]
  },
  {
   "cell_type": "code",
   "execution_count": 18,
   "id": "b8508146-8607-4775-9cce-001be2d246b5",
   "metadata": {},
   "outputs": [
    {
     "name": "stderr",
     "output_type": "stream",
     "text": [
      "                                                                                \r"
     ]
    }
   ],
   "source": [
    "deltaTable.toDF().write.format(\"delta\").option(\"mergeSchema\",True).mode(\"overwrite\").save(basePath)"
   ]
  },
  {
   "cell_type": "code",
   "execution_count": 20,
   "id": "a073fa89-e9a1-414a-8317-119897788b46",
   "metadata": {},
   "outputs": [
    {
     "ename": "AttributeError",
     "evalue": "'DeltaTable' object has no attribute 'restoreToTimestamp'",
     "output_type": "error",
     "traceback": [
      "\u001b[0;31m---------------------------------------------------------------------------\u001b[0m",
      "\u001b[0;31mAttributeError\u001b[0m                            Traceback (most recent call last)",
      "\u001b[0;32m/tmp/ipykernel_73/1861036880.py\u001b[0m in \u001b[0;36m<module>\u001b[0;34m\u001b[0m\n\u001b[0;32m----> 1\u001b[0;31m \u001b[0mhelp\u001b[0m\u001b[0;34m(\u001b[0m\u001b[0mdeltaTable\u001b[0m\u001b[0;34m.\u001b[0m\u001b[0mrestoreToTimestamp\u001b[0m\u001b[0;34m)\u001b[0m\u001b[0;34m\u001b[0m\u001b[0;34m\u001b[0m\u001b[0m\n\u001b[0m",
      "\u001b[0;31mAttributeError\u001b[0m: 'DeltaTable' object has no attribute 'restoreToTimestamp'"
     ]
    }
   ],
   "source": [
    "help(deltaTable.restoreToTimestamp)"
   ]
  },
  {
   "cell_type": "code",
   "execution_count": 21,
   "id": "fbe89ea3-904e-4f3f-ab28-85cd9407e290",
   "metadata": {},
   "outputs": [
    {
     "name": "stdout",
     "output_type": "stream",
     "text": [
      "{\"commitInfo\":{\"timestamp\":1651852332217,\"operation\":\"MERGE\",\"operationParameters\":{\"predicate\":\"(baseline.`pk_id` = updates.`pk_id`)\",\"matchedPredicates\":\"[{\\\"predicate\\\":\\\"(updates.`type` = 'other')\\\",\\\"actionType\\\":\\\"delete\\\"}]\",\"notMatchedPredicates\":\"[]\"},\"readVersion\":9,\"isBlindAppend\":false,\"operationMetrics\":{\"numTargetRowsCopied\":\"1\",\"numTargetRowsDeleted\":\"0\",\"numTargetFilesAdded\":\"2\",\"executionTimeMs\":\"0\",\"numTargetRowsInserted\":\"0\",\"scanTimeMs\":\"1094\",\"numTargetRowsUpdated\":\"0\",\"numOutputRows\":\"1\",\"numSourceRows\":\"2\",\"numTargetFilesRemoved\":\"1\",\"rewriteTimeMs\":\"2519\"}}}\n",
      "{\"remove\":{\"path\":\"part-00107-2588de64-999c-4487-ab70-12b8e742ed0f-c000.snappy.parquet\",\"deletionTimestamp\":1651852332216,\"dataChange\":true,\"extendedFileMetadata\":true,\"partitionValues\":{},\"size\":1322}}\n",
      "{\"add\":{\"path\":\"part-00000-2e9a3a5e-a888-45db-8062-48bd6467f344-c000.snappy.parquet\",\"partitionValues\":{},\"size\":623,\"modificationTime\":1651852329000,\"dataChange\":true}}\n",
      "{\"add\":{\"path\":\"part-00107-420d5550-ad00-4cb4-b9b8-90dea11b182a-c000.snappy.parquet\",\"partitionValues\":{},\"size\":1322,\"modificationTime\":1651852329000,\"dataChange\":true}}\n"
     ]
    }
   ],
   "source": [
    "!cat deltaTable/_delta_log/00000000000000000010.json"
   ]
  },
  {
   "cell_type": "code",
   "execution_count": 22,
   "id": "f86bbfd1-d1fc-4594-a146-2f1dead5e401",
   "metadata": {},
   "outputs": [
    {
     "name": "stdout",
     "output_type": "stream",
     "text": [
      "+-----+-------+-----+-------+---------+\n",
      "|pk_id|   name|value|   type|new_field|\n",
      "+-----+-------+-----+-------+---------+\n",
      "|    2|samsung|   20| galaxy|   phones|\n",
      "|  101|  apple|  220| iphone|   phones|\n",
      "|    1|  other|   50|  other|    other|\n",
      "|    3|   dell|   30|monitor|     null|\n",
      "+-----+-------+-----+-------+---------+\n",
      "\n"
     ]
    }
   ],
   "source": [
    "spark.read.format(\"delta\").load(basePath).show()"
   ]
  },
  {
   "cell_type": "code",
   "execution_count": 23,
   "id": "7f9e50a8-d592-4f71-b253-2a570d3119a1",
   "metadata": {},
   "outputs": [
    {
     "name": "stdout",
     "output_type": "stream",
     "text": [
      "root\n",
      " |-- pk_id: long (nullable = true)\n",
      " |-- name: string (nullable = true)\n",
      " |-- value: long (nullable = true)\n",
      " |-- type: string (nullable = true)\n",
      " |-- new_field: string (nullable = true)\n",
      "\n"
     ]
    }
   ],
   "source": [
    "deltaTable.toDF().printSchema()"
   ]
  },
  {
   "cell_type": "code",
   "execution_count": 24,
   "id": "46937423-0a4d-4ee8-9c40-bcd364804b1f",
   "metadata": {},
   "outputs": [
    {
     "name": "stderr",
     "output_type": "stream",
     "text": [
      "                                                                                \r"
     ]
    }
   ],
   "source": [
    "deltaTable.toDF().write.format(\"delta\").option(\"mergeSchema\",True).option(\"overwriteSchema\",True).mode(\"overwrite\").save(basePath)"
   ]
  },
  {
   "cell_type": "code",
   "execution_count": 25,
   "id": "ad4f36ad-f167-4ae9-9126-989ba30c4978",
   "metadata": {},
   "outputs": [
    {
     "name": "stdout",
     "output_type": "stream",
     "text": [
      "+-----+-------+-----+-------+---------+\n",
      "|pk_id|   name|value|   type|new_field|\n",
      "+-----+-------+-----+-------+---------+\n",
      "|    2|samsung|   20| galaxy|   phones|\n",
      "|  101|  apple|  220| iphone|   phones|\n",
      "|    1|  other|   50|  other|    other|\n",
      "|    3|   dell|   30|monitor|     null|\n",
      "+-----+-------+-----+-------+---------+\n",
      "\n"
     ]
    }
   ],
   "source": [
    "spark.read.format(\"delta\").load(basePath).show()"
   ]
  },
  {
   "cell_type": "code",
   "execution_count": 26,
   "id": "050309f6-a6e8-4692-b2c6-12a412dc9884",
   "metadata": {},
   "outputs": [
    {
     "name": "stdout",
     "output_type": "stream",
     "text": [
      "root\n",
      " |-- pk_id: long (nullable = true)\n",
      " |-- name: string (nullable = true)\n",
      " |-- value: long (nullable = true)\n",
      " |-- type: string (nullable = true)\n",
      " |-- new_field: string (nullable = true)\n",
      "\n"
     ]
    }
   ],
   "source": [
    "spark.read.format(\"delta\").load(basePath).printSchema()"
   ]
  },
  {
   "cell_type": "code",
   "execution_count": 27,
   "id": "5549cefc-4efb-413d-ae27-ac809ff4ea5d",
   "metadata": {},
   "outputs": [
    {
     "data": {
      "text/plain": [
       "DataFrame[version: bigint, timestamp: timestamp, userId: string, userName: string, operation: string, operationParameters: map<string,string>, job: struct<jobId:string,jobName:string,runId:string,jobOwnerId:string,triggerType:string>, notebook: struct<notebookId:string>, clusterId: string, readVersion: bigint, isolationLevel: string, isBlindAppend: boolean, operationMetrics: map<string,string>, userMetadata: string]"
      ]
     },
     "execution_count": 27,
     "metadata": {},
     "output_type": "execute_result"
    }
   ],
   "source": [
    "deltaTable.history(1)"
   ]
  },
  {
   "cell_type": "code",
   "execution_count": 28,
   "id": "579f7ce7-352b-4715-a782-69d9bcb10dbe",
   "metadata": {},
   "outputs": [
    {
     "name": "stderr",
     "output_type": "stream",
     "text": [
      "                                                                                \r"
     ]
    },
    {
     "name": "stdout",
     "output_type": "stream",
     "text": [
      "Deleted 38 files and directories in a total of 1 directories.\n"
     ]
    },
    {
     "data": {
      "text/plain": [
       "DataFrame[]"
      ]
     },
     "execution_count": 28,
     "metadata": {},
     "output_type": "execute_result"
    }
   ],
   "source": [
    "deltaTable.vacuum()"
   ]
  },
  {
   "cell_type": "code",
   "execution_count": null,
   "id": "48e4ad90-746f-420b-b15c-f0d2a99ae0ff",
   "metadata": {},
   "outputs": [],
   "source": [
    "spark.stop()"
   ]
  },
  {
   "cell_type": "code",
   "execution_count": 29,
   "id": "43870f00-f5d0-4de4-a8e6-42e289ee47b4",
   "metadata": {},
   "outputs": [
    {
     "name": "stdout",
     "output_type": "stream",
     "text": [
      "_delta_log\n",
      "part-00000-0dbe011d-eaad-4bd4-abdd-2f8011602659-c000.snappy.parquet\n",
      "part-00000-1512ab50-13d4-4303-a8a2-189068563112-c000.snappy.parquet\n",
      "part-00000-44206d9d-bbe6-4697-8a31-d28d0e6af4b6-c000.snappy.parquet\n",
      "part-00000-4ed9cc54-889b-4a54-8db7-6c4f875951ae-c000.snappy.parquet\n",
      "part-00000-5263f752-8e81-43eb-a184-1ee3545858a9-c000.snappy.parquet\n",
      "part-00000-73479f5a-fe73-413b-9899-c694cc1cc1b6-c000.snappy.parquet\n",
      "part-00000-80a4fd75-9c3b-4990-bdc5-2eb174f723af-c000.snappy.parquet\n",
      "part-00000-a528aab2-aa4d-4e0c-93df-cea6f5fb9f9c-c000.snappy.parquet\n",
      "part-00000-aac298f5-9c24-48d8-9415-195c3d3c838c-c000.snappy.parquet\n",
      "part-00000-db885079-8812-4678-9b21-f7eea15c0434-c000.snappy.parquet\n",
      "part-00069-061433de-3efe-4cf6-b52e-c203f68a7eef-c000.snappy.parquet\n",
      "part-00069-ccbb5395-3d0c-47e5-a5e1-36a8e0fff942-c000.snappy.parquet\n",
      "part-00107-0e1d9ab6-698b-4112-8d35-f23564e857f5-c000.snappy.parquet\n",
      "part-00107-9d288664-6ea9-44fb-a5e1-ec07542fcbd5-c000.snappy.parquet\n",
      "part-00109-cf65e10f-cb40-4dd6-95c2-88dfe8b08b14-c000.snappy.parquet\n",
      "part-00128-3c69989a-bfb8-49f5-bf60-6a59baa1f360-c000.snappy.parquet\n",
      "part-00140-7948d958-c0ef-4989-850d-827dc026298d-c000.snappy.parquet\n"
     ]
    }
   ],
   "source": [
    "!ls deltaTable"
   ]
  }
 ],
 "metadata": {
  "kernelspec": {
   "display_name": "Python 3 (ipykernel)",
   "language": "python",
   "name": "python3"
  },
  "language_info": {
   "codemirror_mode": {
    "name": "ipython",
    "version": 3
   },
   "file_extension": ".py",
   "mimetype": "text/x-python",
   "name": "python",
   "nbconvert_exporter": "python",
   "pygments_lexer": "ipython3",
   "version": "3.7.12"
  }
 },
 "nbformat": 4,
 "nbformat_minor": 5
}
